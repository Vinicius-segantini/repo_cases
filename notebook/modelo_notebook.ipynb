{
 "cells": [
  {
   "cell_type": "code",
   "execution_count": 1,
   "id": "4f35f2d1-ecec-41f4-86da-688096184b58",
   "metadata": {},
   "outputs": [],
   "source": [
    "import pandas as pd\n",
    "from sklearn.model_selection import train_test_split\n",
    "from sklearn.linear_model import LinearRegression\n",
    "from sklearn.metrics import mean_squared_error, mean_absolute_error, r2_score\n",
    "import requests\n"
   ]
  },
  {
   "cell_type": "markdown",
   "id": "4c96a7c4-e14a-4031-9d21-890825000a5c",
   "metadata": {},
   "source": [
    "### Limpeza e tratamento da base\n",
    "1. Identificando e removendo valores nulos.\n",
    "2. Convertendo formatos inicialmente desformatados.\n",
    "3. Removendo outliers."
   ]
  },
  {
   "cell_type": "code",
   "execution_count": null,
   "id": "a0534428-e764-408d-8feb-686941052f8c",
   "metadata": {},
   "outputs": [],
   "source": [
    "# Carregar os dados\n",
    "df = pd.read_csv('airports-database.csv')\n",
    "\n",
    "# Limpeza e transformação dos dados\n",
    "df['dep_time'] = pd.to_datetime(df['dep_time'], format='%H%M', errors='coerce')\n",
    "df['dep_time'] = df['dep_time'].dt.time\n",
    "df['sched_dep_time'] = pd.to_datetime(df['sched_dep_time'], format='%H%M', errors='coerce')\n",
    "df['sched_dep_time'] = df['sched_dep_time'].dt.time\n",
    "df['arr_time'] = pd.to_datetime(df['arr_time'], format='%H%M', errors='coerce')\n",
    "df['arr_time'] = df['arr_time'].dt.time\n",
    "print(f\"Número total da base: {df.shape[0]}\\n\")\n",
    "nulos_por_coluna = df.isnull().sum()\n",
    "linhas_com_nulos = df.isnull().any(axis=1).sum()\n",
    "print(f\"Número total de linhas com pelo menos um valor nulo: {linhas_com_nulos}\\n\")\n",
    "print(f\"Número de nulos por coluna:\\n{nulos_por_coluna}\\n\")\n",
    "df.dropna(axis=0,how='any',inplace=True)\n",
    "print(f\"Número total da base sem nulos: {df.shape[0]}\")"
   ]
  },
  {
   "cell_type": "code",
   "execution_count": 4,
   "id": "2de2563c-144e-4830-931c-327215385ad9",
   "metadata": {},
   "outputs": [],
   "source": [
    "# removendo outliers:\n",
    "Q1 = df['arr_delay'].quantile(0.25)\n",
    "Q3 = df['arr_delay'].quantile(0.75)\n",
    "IQR = Q3 - Q1\n",
    "\n",
    "# definir limites\n",
    "limite_inferior = Q1 - 1.5 * IQR\n",
    "limite_superior = Q3 + 1.5 * IQR\n",
    "\n",
    "# filtrar os dados\n",
    "df_filtrado = df[(df['arr_delay'] >= limite_inferior) & (df['arr_delay'] <= limite_superior)]\n"
   ]
  },
  {
   "cell_type": "code",
   "execution_count": 5,
   "id": "fbc89b85-5933-4a63-956f-c79a40505329",
   "metadata": {},
   "outputs": [],
   "source": [
    "df = df_filtrado.copy()"
   ]
  },
  {
   "cell_type": "markdown",
   "id": "010db5c9-2b03-4d13-a9c0-98aef8685802",
   "metadata": {},
   "source": [
    "### Criando modelo\n",
    "1. Seleção de features e target.\n",
    "2. Divisão das bases de treino e de teste (80/20).\n",
    "3. Treino do modelo."
   ]
  },
  {
   "cell_type": "code",
   "execution_count": null,
   "id": "fa6af016-fc39-4d35-a584-7908bc04de71",
   "metadata": {
    "scrolled": true
   },
   "outputs": [],
   "source": [
    "# Seleção de features (X) e target (y)\n",
    "features = ['dep_delay','origin','dest', 'carrier', 'distance']\n",
    "X = pd.get_dummies(df[features], drop_first=True)\n",
    "y = df['arr_delay']\n",
    "\n",
    "# Divisão dos dados\n",
    "X_train, X_test, y_train, y_test = train_test_split(X, y, test_size=0.2, random_state=135)\n",
    "\n",
    "# Treinamento do modelo\n",
    "model = LinearRegression()\n",
    "model.fit(X_train, y_train)"
   ]
  },
  {
   "cell_type": "markdown",
   "id": "7af8bf33-2a46-4174-a198-5c55b08f336a",
   "metadata": {},
   "source": [
    "### Avaliação do Modelo (métricas):\n",
    "1. Testando o modelo na base de teste.\n",
    "2. Métricas do ajuste do target previsto comparado com o target real."
   ]
  },
  {
   "cell_type": "code",
   "execution_count": 7,
   "id": "b4971f79-2532-4e4d-8b41-6c83b29831e7",
   "metadata": {},
   "outputs": [
    {
     "name": "stdout",
     "output_type": "stream",
     "text": [
      "RMSE: 15.412886202963278\n",
      "MSE: 237.55706110549576\n",
      "MAE: 11.787583673534222\n",
      "R²: 0.4652730859605828\n"
     ]
    },
    {
     "name": "stderr",
     "output_type": "stream",
     "text": [
      "C:\\Users\\vinis\\AppData\\Local\\Programs\\Python\\Python312\\Lib\\site-packages\\sklearn\\metrics\\_regression.py:492: FutureWarning: 'squared' is deprecated in version 1.4 and will be removed in 1.6. To calculate the root mean squared error, use the function'root_mean_squared_error'.\n",
      "  warnings.warn(\n"
     ]
    }
   ],
   "source": [
    "# Avaliação do modelo na base teste\n",
    "y_pred = model.predict(X_test)\n",
    "\n",
    "# Calculando RMSE\n",
    "rmse = mean_squared_error(y_test, y_pred, squared=False)\n",
    "print(f'RMSE: {rmse}')\n",
    "\n",
    "# Calculando MSE\n",
    "mse = mean_squared_error(y_test, y_pred)\n",
    "print(f'MSE: {mse}')\n",
    "\n",
    "# Calculando MAE\n",
    "mae = mean_absolute_error(y_test, y_pred)\n",
    "print(f'MAE: {mae}')\n",
    "\n",
    "# Calculando R²\n",
    "r2 = r2_score(y_test, y_pred)\n",
    "print(f'R²: {r2}')"
   ]
  },
  {
   "cell_type": "markdown",
   "id": "1c7c3dc5-2224-4024-b152-c9424ebe61ce",
   "metadata": {},
   "source": [
    "### Salvando modelo treinado\n",
    "1. Gerando o arquivo pickle.\n",
    "2. Salvando informações relevantes além do modelo para o microserviço dentro do pickle."
   ]
  },
  {
   "cell_type": "code",
   "execution_count": 8,
   "id": "41b6f822-0255-407d-9b27-46ef27dbc9f3",
   "metadata": {},
   "outputs": [],
   "source": [
    "import pickle\n",
    "\n",
    "dummies_columns = X_train.columns\n",
    "# Salvar o modelo treinado em um arquivo pickle\n",
    "with open('model.pkl', 'wb') as f:\n",
    "    pickle.dump({\"model\": model, \"features\": features, \"dummies_columns\": dummies_columns}, f)"
   ]
  },
  {
   "cell_type": "markdown",
   "id": "2eb4eff3-eac6-4616-9904-aff73b4cf09c",
   "metadata": {},
   "source": [
    "### Testes em \"prod\"\n",
    "1. Testando predição de um dado aleatório.\n",
    "2. Carregando o pickle na API no *model/load*.\n",
    "3. Testando request com payload para *model/predict*.\n",
    "4. Testando o *model/history*"
   ]
  },
  {
   "cell_type": "code",
   "execution_count": 9,
   "id": "0cc42d9e-208c-4bf5-b91e-4406f7008b17",
   "metadata": {},
   "outputs": [
    {
     "name": "stdout",
     "output_type": "stream",
     "text": [
      "Previsão para o novo dado 1: -22.420311454039954\n",
      "Previsão para o novo dado 2: -4.302383768867181\n"
     ]
    }
   ],
   "source": [
    "new_data = pd.DataFrame({\n",
    "    'dep_delay': [-1, 8],  # Exemplo de valores\n",
    "    'origin': ['EWR', 'EWR'],\n",
    "    'dest': ['LAS', 'ORD'],\n",
    "    'carrier': ['UA', 'MQ'],\n",
    "    'distance': [2227, 719]\n",
    "})\n",
    "\n",
    "# Aplicar a mesma transformação usada no treinamento\n",
    "new_data_encoded = pd.get_dummies(new_data, drop_first=True)\n",
    "new_data_encoded = new_data_encoded.reindex(columns=X.columns, fill_value=0)\n",
    "\n",
    "# Fazer previsões\n",
    "predictions = model.predict(new_data_encoded)\n",
    "\n",
    "# Mostrar previsões\n",
    "for i, pred in enumerate(predictions):\n",
    "    print(f'Previsão para o novo dado {i+1}: {pred}')"
   ]
  },
  {
   "cell_type": "code",
   "execution_count": null,
   "id": "b8ebca98-f1bd-4af4-bfbe-46f2c3156fc8",
   "metadata": {},
   "outputs": [],
   "source": [
    "# URL do endpoint\n",
    "url = \"http://127.0.0.1:8080/model/load/\"\n",
    "\n",
    "# Caminho para o arquivo .pkl\n",
    "file_path = \"model.pkl\"\n",
    "\n",
    "# Enviar a solicitação POST com o arquivo\n",
    "with open(file_path, 'rb') as file:\n",
    "    response = requests.post(url, files={\"file\": file})\n",
    "\n",
    "# Exibir a resposta\n",
    "print(response.json())"
   ]
  },
  {
   "cell_type": "code",
   "execution_count": null,
   "id": "c00af75b-d168-410a-8082-d8c809864b6d",
   "metadata": {},
   "outputs": [],
   "source": [
    "url = \"http://127.0.0.1:8080/model/predict\"\n",
    "data = {\n",
    "    \"dep_delay\": 10,\n",
    "    \"origin\": \"JF\",\n",
    "    \"dest\": \"ORDa\",\n",
    "    \"carrier\": \"AA\",\n",
    "    \"distance\": 400\n",
    "}\n",
    "\n",
    "response = requests.post(url, json=data)\n",
    "print(response.json())\n",
    "print(response.status_code)"
   ]
  },
  {
   "cell_type": "code",
   "execution_count": null,
   "id": "85e89957-ef78-4917-98bc-5e82f3d7a17d",
   "metadata": {},
   "outputs": [],
   "source": [
    "url = \"http://127.0.0.1:8080/model/history\"\n",
    "\n",
    "\n",
    "response = requests.get(url)\n",
    "print(response.json())"
   ]
  }
 ],
 "metadata": {
  "kernelspec": {
   "display_name": "Python 3 (ipykernel)",
   "language": "python",
   "name": "python3"
  },
  "language_info": {
   "codemirror_mode": {
    "name": "ipython",
    "version": 3
   },
   "file_extension": ".py",
   "mimetype": "text/x-python",
   "name": "python",
   "nbconvert_exporter": "python",
   "pygments_lexer": "ipython3",
   "version": "3.12.4"
  }
 },
 "nbformat": 4,
 "nbformat_minor": 5
}
