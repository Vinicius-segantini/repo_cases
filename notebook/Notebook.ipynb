{
 "cells": [
  {
   "cell_type": "code",
   "execution_count": 0,
   "metadata": {
    "application/vnd.databricks.v1+cell": {
     "cellMetadata": {
      "byteLimit": 2048000,
      "rowLimit": 10000
     },
     "inputWidgets": {},
     "nuid": "33a19b7f-6fcf-48f1-a0a3-3e2aad492e92",
     "showTitle": false,
     "title": ""
    }
   },
   "outputs": [
    {
     "output_type": "stream",
     "name": "stdout",
     "output_type": "stream",
     "text": [
      "<pyspark.sql.session.SparkSession object at 0x7fb0bb664160>\n"
     ]
    }
   ],
   "source": [
    "# print da sessão spark já definida pelo DataBricks\n",
    "print(spark)\n",
    "\n",
    "# gerando um spark dataframe a partir do file_path de upload de arquivo do dbfs:\n",
    "file_path = \"dbfs:/FileStore/shared_uploads/vinisegan@gmail.com/airports_database.csv\"\n",
    "df = spark.read.csv(file_path, header=True, inferSchema=True)\n",
    "\n"
   ]
  },
  {
   "cell_type": "code",
   "execution_count": 0,
   "metadata": {
    "application/vnd.databricks.v1+cell": {
     "cellMetadata": {
      "byteLimit": 2048000,
      "rowLimit": 10000
     },
     "inputWidgets": {},
     "nuid": "50a55a44-8230-4de5-a29b-db3674d5efa8",
     "showTitle": false,
     "title": ""
    }
   },
   "outputs": [],
   "source": [
    "# importing pyspark.sql\n",
    "from pyspark.sql.types import *\n",
    "from pyspark.sql.functions import *\n",
    "from pyspark.sql.window import Window\n"
   ]
  },
  {
   "cell_type": "markdown",
   "metadata": {
    "application/vnd.databricks.v1+cell": {
     "cellMetadata": {},
     "inputWidgets": {},
     "nuid": "793c171e-ae09-4434-a13b-27d3177e436c",
     "showTitle": false,
     "title": ""
    }
   },
   "source": [
    "##### 1. Qual é o número total de voos no conjunto de dados?\n",
    "**Resposta:** contar o número total de ids distintos = 336776"
   ]
  },
  {
   "cell_type": "code",
   "execution_count": 0,
   "metadata": {
    "application/vnd.databricks.v1+cell": {
     "cellMetadata": {
      "byteLimit": 2048000,
      "rowLimit": 10000
     },
     "inputWidgets": {},
     "nuid": "03afe942-5230-4a04-aeda-7122812848ad",
     "showTitle": false,
     "title": ""
    }
   },
   "outputs": [
    {
     "output_type": "stream",
     "name": "stdout",
     "output_type": "stream",
     "text": [
      "+----------+\n|voos_total|\n+----------+\n|    336776|\n+----------+\n\n"
     ]
    }
   ],
   "source": [
    "resposta_1 = df.select(countDistinct(\"id\").alias(\"voos_total\"))\n",
    "resposta_1.show()"
   ]
  },
  {
   "cell_type": "markdown",
   "metadata": {
    "application/vnd.databricks.v1+cell": {
     "cellMetadata": {},
     "inputWidgets": {},
     "nuid": "13ee8979-344c-4f11-8a98-b2608b746d0e",
     "showTitle": false,
     "title": ""
    }
   },
   "source": [
    "##### 2. Quantos voos foram cancelados? (Considerando que voos cancelados têm dep_time e arr_time nulos)\n",
    "**Resposta:** contar ids distintos onde 'dep_time' **e** 'arr_time' são nulos = 8255"
   ]
  },
  {
   "cell_type": "code",
   "execution_count": 0,
   "metadata": {
    "application/vnd.databricks.v1+cell": {
     "cellMetadata": {
      "byteLimit": 2048000,
      "rowLimit": 10000
     },
     "inputWidgets": {},
     "nuid": "4227898f-9792-448c-a321-dd4fb5a57f5a",
     "showTitle": false,
     "title": ""
    }
   },
   "outputs": [
    {
     "output_type": "stream",
     "name": "stdout",
     "output_type": "stream",
     "text": [
      "+---------------+\n|voos_cancelados|\n+---------------+\n|           8255|\n+---------------+\n\n"
     ]
    }
   ],
   "source": [
    "resposta_2 = df.filter((col(\"dep_time\").isNull()) & (col(\"arr_time\")).isNull()).select(countDistinct(\"id\").alias(\"voos_cancelados\"))\n",
    "resposta_2.show()"
   ]
  },
  {
   "cell_type": "markdown",
   "metadata": {
    "application/vnd.databricks.v1+cell": {
     "cellMetadata": {},
     "inputWidgets": {},
     "nuid": "da9f374b-9b39-41ab-b599-b7f6735cc745",
     "showTitle": false,
     "title": ""
    }
   },
   "source": [
    "##### 3. Qual é o atraso médio na partida dos voos (dep_delay)?\n",
    "**Resposta:** considerando tanto voos adiantados quanto voos atrasados, temos uma média de 12.64 minutos de atraso.\n"
   ]
  },
  {
   "cell_type": "code",
   "execution_count": 0,
   "metadata": {
    "application/vnd.databricks.v1+cell": {
     "cellMetadata": {
      "byteLimit": 2048000,
      "rowLimit": 10000
     },
     "inputWidgets": {},
     "nuid": "78561163-3ca5-4543-ba7d-1cd5cf276d33",
     "showTitle": false,
     "title": ""
    }
   },
   "outputs": [
    {
     "output_type": "stream",
     "name": "stdout",
     "output_type": "stream",
     "text": [
      "+-------------+\n|avg_dep_delay|\n+-------------+\n|        12.64|\n+-------------+\n\n"
     ]
    }
   ],
   "source": [
    "resposta_3 = (\n",
    "    df.filter((col(\"dep_time\").isNotNull()) | (col(\"arr_time\")).isNotNull())\n",
    "    .select(round(avg(\"dep_delay\"),2).alias(\"avg_dep_delay\"))\n",
    ")\n",
    "\n",
    "resposta_3.show()"
   ]
  },
  {
   "cell_type": "markdown",
   "metadata": {
    "application/vnd.databricks.v1+cell": {
     "cellMetadata": {},
     "inputWidgets": {},
     "nuid": "f288a325-bfb2-4972-aa7a-13ceca315d25",
     "showTitle": false,
     "title": ""
    }
   },
   "source": [
    "##### 4. Quais são os 5 aeroportos com maior número de pousos?\n",
    "**Resposta:** desconsiderando os voos cancelados e analisando somente os pousos reais, os 5 aeroportos com maior número de pousos são: \n",
    "1. ATL\n",
    "2. ORD\n",
    "3. LAX\n",
    "4. BOS\n",
    "5. MCO"
   ]
  },
  {
   "cell_type": "code",
   "execution_count": 0,
   "metadata": {
    "application/vnd.databricks.v1+cell": {
     "cellMetadata": {
      "byteLimit": 2048000,
      "rowLimit": 10000
     },
     "inputWidgets": {},
     "nuid": "c4a062ee-a802-4fe6-a21f-190e2a4ca265",
     "showTitle": false,
     "title": ""
    }
   },
   "outputs": [
    {
     "output_type": "display_data",
     "data": {
      "text/html": [
       "<style scoped>\n",
       "  .table-result-container {\n",
       "    max-height: 300px;\n",
       "    overflow: auto;\n",
       "  }\n",
       "  table, th, td {\n",
       "    border: 1px solid black;\n",
       "    border-collapse: collapse;\n",
       "  }\n",
       "  th, td {\n",
       "    padding: 5px;\n",
       "  }\n",
       "  th {\n",
       "    text-align: left;\n",
       "  }\n",
       "</style><div class='table-result-container'><table class='table-result'><thead style='background-color: white'><tr><th>dest</th><th>num_pouso</th></tr></thead><tbody><tr><td>ATL</td><td>16898</td></tr><tr><td>ORD</td><td>16642</td></tr><tr><td>LAX</td><td>16076</td></tr><tr><td>BOS</td><td>15049</td></tr><tr><td>MCO</td><td>13982</td></tr></tbody></table></div>"
      ]
     },
     "metadata": {
      "application/vnd.databricks.v1+output": {
       "addedWidgets": {},
       "aggData": [],
       "aggError": "",
       "aggOverflow": false,
       "aggSchema": [],
       "aggSeriesLimitReached": false,
       "aggType": "",
       "arguments": {},
       "columnCustomDisplayInfos": {},
       "data": [
        [
         "ATL",
         16898
        ],
        [
         "ORD",
         16642
        ],
        [
         "LAX",
         16076
        ],
        [
         "BOS",
         15049
        ],
        [
         "MCO",
         13982
        ]
       ],
       "datasetInfos": [],
       "dbfsResultPath": null,
       "isJsonSchema": true,
       "metadata": {},
       "overflow": false,
       "plotOptions": {
        "customPlotOptions": {},
        "displayType": "table",
        "pivotAggregation": null,
        "pivotColumns": null,
        "xColumns": null,
        "yColumns": null
       },
       "removedWidgets": [],
       "schema": [
        {
         "metadata": "{}",
         "name": "dest",
         "type": "\"string\""
        },
        {
         "metadata": "{}",
         "name": "num_pouso",
         "type": "\"long\""
        }
       ],
       "type": "table"
      }
     },
     "output_type": "display_data"
    }
   ],
   "source": [
    "resposta_4 = (\n",
    "    df.filter((col(\"dep_time\").isNotNull()) | (col(\"arr_time\")).isNotNull())\n",
    "    .groupBy(col(\"dest\"))\n",
    "    .agg(countDistinct(col(\"id\")).alias(\"num_pouso\"))\n",
    "    .sort(col(\"num_pouso\").desc())\n",
    "    .limit(5)\n",
    ")\n",
    "\n",
    "display(resposta_4)"
   ]
  },
  {
   "cell_type": "markdown",
   "metadata": {
    "application/vnd.databricks.v1+cell": {
     "cellMetadata": {},
     "inputWidgets": {},
     "nuid": "42d57937-95d8-4e0a-a640-38d4f846c859",
     "showTitle": false,
     "title": ""
    }
   },
   "source": [
    "##### 5. Qual é a rota mais frequente (par origin-dest)?\n",
    "**Resposta:** pensando somente nas rotas independente do voo ter sido ou não cancelado, a rota mais frequente é: \"JFK -> LAX\" "
   ]
  },
  {
   "cell_type": "code",
   "execution_count": 0,
   "metadata": {
    "application/vnd.databricks.v1+cell": {
     "cellMetadata": {
      "byteLimit": 2048000,
      "rowLimit": 10000
     },
     "inputWidgets": {},
     "nuid": "fa776b6e-9d83-43ef-94e0-ddb9d83c427e",
     "showTitle": false,
     "title": ""
    }
   },
   "outputs": [
    {
     "output_type": "display_data",
     "data": {
      "text/html": [
       "<style scoped>\n",
       "  .table-result-container {\n",
       "    max-height: 300px;\n",
       "    overflow: auto;\n",
       "  }\n",
       "  table, th, td {\n",
       "    border: 1px solid black;\n",
       "    border-collapse: collapse;\n",
       "  }\n",
       "  th, td {\n",
       "    padding: 5px;\n",
       "  }\n",
       "  th {\n",
       "    text-align: left;\n",
       "  }\n",
       "</style><div class='table-result-container'><table class='table-result'><thead style='background-color: white'><tr><th>origin</th><th>dest</th><th>num_rotas</th></tr></thead><tbody><tr><td>JFK</td><td>LAX</td><td>11262</td></tr></tbody></table></div>"
      ]
     },
     "metadata": {
      "application/vnd.databricks.v1+output": {
       "addedWidgets": {},
       "aggData": [],
       "aggError": "",
       "aggOverflow": false,
       "aggSchema": [],
       "aggSeriesLimitReached": false,
       "aggType": "",
       "arguments": {},
       "columnCustomDisplayInfos": {},
       "data": [
        [
         "JFK",
         "LAX",
         11262
        ]
       ],
       "datasetInfos": [],
       "dbfsResultPath": null,
       "isJsonSchema": true,
       "metadata": {},
       "overflow": false,
       "plotOptions": {
        "customPlotOptions": {},
        "displayType": "table",
        "pivotAggregation": null,
        "pivotColumns": null,
        "xColumns": null,
        "yColumns": null
       },
       "removedWidgets": [],
       "schema": [
        {
         "metadata": "{}",
         "name": "origin",
         "type": "\"string\""
        },
        {
         "metadata": "{}",
         "name": "dest",
         "type": "\"string\""
        },
        {
         "metadata": "{}",
         "name": "num_rotas",
         "type": "\"long\""
        }
       ],
       "type": "table"
      }
     },
     "output_type": "display_data"
    }
   ],
   "source": [
    "resposta_5 = (\n",
    "    df.groupBy(col(\"origin\"),col(\"dest\"))\n",
    "    .agg(countDistinct(col(\"id\")).alias(\"num_rotas\"))\n",
    "    .sort(col(\"num_rotas\").desc())\n",
    "    .limit(1)\n",
    ")\n",
    "display(resposta_5)"
   ]
  },
  {
   "cell_type": "markdown",
   "metadata": {
    "application/vnd.databricks.v1+cell": {
     "cellMetadata": {},
     "inputWidgets": {},
     "nuid": "59f1d954-6ca4-4b9d-82df-3e8f621bc006",
     "showTitle": false,
     "title": ""
    }
   },
   "source": [
    "##### 6. Quais são as 5 companhias aéreas com maior tempo médio de atraso na chegada? (Exiba também o tempo)\n",
    "**Resposta:** As companhias aéreas com maior tempo médio de atraso e a respectiva média estão na tabela abaixo."
   ]
  },
  {
   "cell_type": "code",
   "execution_count": 0,
   "metadata": {
    "application/vnd.databricks.v1+cell": {
     "cellMetadata": {
      "byteLimit": 2048000,
      "rowLimit": 10000
     },
     "inputWidgets": {},
     "nuid": "8ba2f790-fe47-47d2-bd80-43dfca5fd2cc",
     "showTitle": false,
     "title": ""
    }
   },
   "outputs": [
    {
     "output_type": "display_data",
     "data": {
      "text/html": [
       "<style scoped>\n",
       "  .table-result-container {\n",
       "    max-height: 300px;\n",
       "    overflow: auto;\n",
       "  }\n",
       "  table, th, td {\n",
       "    border: 1px solid black;\n",
       "    border-collapse: collapse;\n",
       "  }\n",
       "  th, td {\n",
       "    padding: 5px;\n",
       "  }\n",
       "  th {\n",
       "    text-align: left;\n",
       "  }\n",
       "</style><div class='table-result-container'><table class='table-result'><thead style='background-color: white'><tr><th>name</th><th>avg_arr_delay</th></tr></thead><tbody><tr><td>Frontier Airlines Inc.</td><td>21.92</td></tr><tr><td>AirTran Airways Corporation</td><td>20.12</td></tr><tr><td>ExpressJet Airlines Inc.</td><td>15.8</td></tr><tr><td>Mesa Airlines Inc.</td><td>15.56</td></tr><tr><td>SkyWest Airlines Inc.</td><td>11.93</td></tr></tbody></table></div>"
      ]
     },
     "metadata": {
      "application/vnd.databricks.v1+output": {
       "addedWidgets": {},
       "aggData": [],
       "aggError": "",
       "aggOverflow": false,
       "aggSchema": [],
       "aggSeriesLimitReached": false,
       "aggType": "",
       "arguments": {},
       "columnCustomDisplayInfos": {},
       "data": [
        [
         "Frontier Airlines Inc.",
         21.92
        ],
        [
         "AirTran Airways Corporation",
         20.12
        ],
        [
         "ExpressJet Airlines Inc.",
         15.8
        ],
        [
         "Mesa Airlines Inc.",
         15.56
        ],
        [
         "SkyWest Airlines Inc.",
         11.93
        ]
       ],
       "datasetInfos": [],
       "dbfsResultPath": null,
       "isJsonSchema": true,
       "metadata": {},
       "overflow": false,
       "plotOptions": {
        "customPlotOptions": {},
        "displayType": "table",
        "pivotAggregation": null,
        "pivotColumns": null,
        "xColumns": null,
        "yColumns": null
       },
       "removedWidgets": [],
       "schema": [
        {
         "metadata": "{}",
         "name": "name",
         "type": "\"string\""
        },
        {
         "metadata": "{}",
         "name": "avg_arr_delay",
         "type": "\"double\""
        }
       ],
       "type": "table"
      }
     },
     "output_type": "display_data"
    }
   ],
   "source": [
    "resposta_6 = (\n",
    "    df.groupBy(col(\"name\"))\n",
    "    .agg(round(avg(col(\"arr_delay\")),2).alias(\"avg_arr_delay\"))\n",
    "    .sort(col(\"avg_arr_delay\").desc())\n",
    "    .limit(5)\n",
    ")\n",
    "display(resposta_6)"
   ]
  },
  {
   "cell_type": "markdown",
   "metadata": {
    "application/vnd.databricks.v1+cell": {
     "cellMetadata": {},
     "inputWidgets": {},
     "nuid": "0ac376fc-dcd2-495f-9afb-19e5a5f17113",
     "showTitle": false,
     "title": ""
    }
   },
   "source": [
    "##### 7. Qual é o dia da semana com maior número de voos?\n",
    "**Resposta:** Considerando todos os voos programados e apenas horários programados:  \n",
    "Segunda-feira é o dia com mais voos."
   ]
  },
  {
   "cell_type": "code",
   "execution_count": 0,
   "metadata": {
    "application/vnd.databricks.v1+cell": {
     "cellMetadata": {
      "byteLimit": 2048000,
      "rowLimit": 10000
     },
     "inputWidgets": {},
     "nuid": "021cb33b-4c08-41ba-ac61-192eb4f54b2e",
     "showTitle": false,
     "title": ""
    }
   },
   "outputs": [
    {
     "output_type": "display_data",
     "data": {
      "text/html": [
       "<style scoped>\n",
       "  .table-result-container {\n",
       "    max-height: 300px;\n",
       "    overflow: auto;\n",
       "  }\n",
       "  table, th, td {\n",
       "    border: 1px solid black;\n",
       "    border-collapse: collapse;\n",
       "  }\n",
       "  th, td {\n",
       "    padding: 5px;\n",
       "  }\n",
       "  th {\n",
       "    text-align: left;\n",
       "  }\n",
       "</style><div class='table-result-container'><table class='table-result'><thead style='background-color: white'><tr><th>day_of_week</th><th>week_day</th></tr></thead><tbody><tr><td>Monday</td><td>50690</td></tr></tbody></table></div>"
      ]
     },
     "metadata": {
      "application/vnd.databricks.v1+output": {
       "addedWidgets": {},
       "aggData": [],
       "aggError": "",
       "aggOverflow": false,
       "aggSchema": [],
       "aggSeriesLimitReached": false,
       "aggType": "",
       "arguments": {},
       "columnCustomDisplayInfos": {},
       "data": [
        [
         "Monday",
         50690
        ]
       ],
       "datasetInfos": [],
       "dbfsResultPath": null,
       "isJsonSchema": true,
       "metadata": {},
       "overflow": false,
       "plotOptions": {
        "customPlotOptions": {},
        "displayType": "table",
        "pivotAggregation": null,
        "pivotColumns": null,
        "xColumns": null,
        "yColumns": null
       },
       "removedWidgets": [],
       "schema": [
        {
         "metadata": "{}",
         "name": "day_of_week",
         "type": "\"string\""
        },
        {
         "metadata": "{}",
         "name": "week_day",
         "type": "\"long\""
        }
       ],
       "type": "table"
      }
     },
     "output_type": "display_data"
    }
   ],
   "source": [
    "df_with_day_of_week = df.withColumn(\n",
    "    \"day_of_week\",\n",
    "    date_format(df[\"time_hour\"], \"EEEE\")\n",
    ")\n",
    "resposta_7 = (\n",
    "    df_with_day_of_week.groupBy(col(\"day_of_week\"))\n",
    "    .agg(countDistinct(col(\"id\")).alias(\"week_day\"))\n",
    "    .sort(col(\"week_day\").desc())\n",
    "    .limit(1)\n",
    ")\n",
    "\n",
    "display(resposta_7)"
   ]
  },
  {
   "cell_type": "markdown",
   "metadata": {
    "application/vnd.databricks.v1+cell": {
     "cellMetadata": {},
     "inputWidgets": {},
     "nuid": "8ab7d89b-b2e9-46f8-b737-1e0c83bd778f",
     "showTitle": false,
     "title": ""
    }
   },
   "source": [
    "##### 8. Qual o percentual mensal dos voos tiveram atraso na partida superior a 30 minutos?\n",
    "**Resposta:** o resultado final pode ser visto na tabela abaixo.  \n",
    "A data inicial do mês corresponde a cada mês e o valor da porcentagem **NÃO** foi multiplicado por 100.\n"
   ]
  },
  {
   "cell_type": "code",
   "execution_count": 0,
   "metadata": {
    "application/vnd.databricks.v1+cell": {
     "cellMetadata": {
      "byteLimit": 2048000,
      "rowLimit": 10000
     },
     "inputWidgets": {},
     "nuid": "197bffb1-37cf-4f89-93e6-7cf31ea24f37",
     "showTitle": false,
     "title": ""
    }
   },
   "outputs": [
    {
     "output_type": "display_data",
     "data": {
      "text/html": [
       "<style scoped>\n",
       "  .table-result-container {\n",
       "    max-height: 300px;\n",
       "    overflow: auto;\n",
       "  }\n",
       "  table, th, td {\n",
       "    border: 1px solid black;\n",
       "    border-collapse: collapse;\n",
       "  }\n",
       "  th, td {\n",
       "    padding: 5px;\n",
       "  }\n",
       "  th {\n",
       "    text-align: left;\n",
       "  }\n",
       "</style><div class='table-result-container'><table class='table-result'><thead style='background-color: white'><tr><th>month</th><th>delay_percentage</th></tr></thead><tbody><tr><td>2013-01-01</td><td>0.1241</td></tr><tr><td>2013-02-01</td><td>0.1275</td></tr><tr><td>2013-03-01</td><td>0.1494</td></tr><tr><td>2013-04-01</td><td>0.1599</td></tr><tr><td>2013-05-01</td><td>0.1534</td></tr><tr><td>2013-06-01</td><td>0.2024</td></tr><tr><td>2013-07-01</td><td>0.2098</td></tr><tr><td>2013-08-01</td><td>0.1445</td></tr><tr><td>2013-09-01</td><td>0.0877</td></tr><tr><td>2013-10-01</td><td>0.0934</td></tr><tr><td>2013-11-01</td><td>0.0876</td></tr><tr><td>2013-12-01</td><td>0.1731</td></tr></tbody></table></div>"
      ]
     },
     "metadata": {
      "application/vnd.databricks.v1+output": {
       "addedWidgets": {},
       "aggData": [],
       "aggError": "",
       "aggOverflow": false,
       "aggSchema": [],
       "aggSeriesLimitReached": false,
       "aggType": "",
       "arguments": {},
       "columnCustomDisplayInfos": {},
       "data": [
        [
         "2013-01-01",
         0.1241
        ],
        [
         "2013-02-01",
         0.1275
        ],
        [
         "2013-03-01",
         0.1494
        ],
        [
         "2013-04-01",
         0.1599
        ],
        [
         "2013-05-01",
         0.1534
        ],
        [
         "2013-06-01",
         0.2024
        ],
        [
         "2013-07-01",
         0.2098
        ],
        [
         "2013-08-01",
         0.1445
        ],
        [
         "2013-09-01",
         0.0877
        ],
        [
         "2013-10-01",
         0.0934
        ],
        [
         "2013-11-01",
         0.0876
        ],
        [
         "2013-12-01",
         0.1731
        ]
       ],
       "datasetInfos": [],
       "dbfsResultPath": null,
       "isJsonSchema": true,
       "metadata": {},
       "overflow": false,
       "plotOptions": {
        "customPlotOptions": {},
        "displayType": "table",
        "pivotAggregation": null,
        "pivotColumns": null,
        "xColumns": null,
        "yColumns": null
       },
       "removedWidgets": [],
       "schema": [
        {
         "metadata": "{}",
         "name": "month",
         "type": "\"date\""
        },
        {
         "metadata": "{}",
         "name": "delay_percentage",
         "type": "\"double\""
        }
       ],
       "type": "table"
      }
     },
     "output_type": "display_data"
    }
   ],
   "source": [
    "delayed_flights_df = df.filter(col(\"dep_delay\") > 30)\n",
    "monthly_total_df = df.groupBy(date_trunc('month',col(\"time_hour\")).alias(\"month\")).agg(countDistinct(\"id\").alias(\"total_flights\"))\n",
    "monthly_delayed_df = delayed_flights_df.groupBy(date_trunc('month',col(\"time_hour\")).alias(\"month\")).agg(countDistinct(\"id\").alias(\"delayed_flights\"))\n",
    "\n",
    "monthly_base = monthly_total_df.join(\n",
    "    monthly_delayed_df, \n",
    "    on = \"month\",\n",
    "    how = \"left\")\n",
    "resposta_8 = (\n",
    "    monthly_base.select(to_date(col(\"month\")).alias('month'),\n",
    "                        round(col(\"delayed_flights\") / col(\"total_flights\") ,4).alias(\"delay_percentage\"))\n",
    "                .orderBy(col(\"month\"))\n",
    ")\n",
    "display(resposta_8)\n"
   ]
  },
  {
   "cell_type": "markdown",
   "metadata": {
    "application/vnd.databricks.v1+cell": {
     "cellMetadata": {},
     "inputWidgets": {},
     "nuid": "f674b438-d421-41a3-9860-5f42e6655244",
     "showTitle": false,
     "title": ""
    }
   },
   "source": [
    "##### 9. Qual a origem mais comum para voos que pousaram em Seattle (SEA)?\n",
    "**Resposta:** Considerando todos os voos programados, a origem mais comum é **JFK**  \n",
    " (Aeroporto Internacional John F. Kennedy, em NY)"
   ]
  },
  {
   "cell_type": "code",
   "execution_count": 0,
   "metadata": {
    "application/vnd.databricks.v1+cell": {
     "cellMetadata": {
      "byteLimit": 2048000,
      "rowLimit": 10000
     },
     "inputWidgets": {},
     "nuid": "c0aaaa0c-e439-489c-bed1-34811b1a0687",
     "showTitle": false,
     "title": ""
    }
   },
   "outputs": [
    {
     "output_type": "display_data",
     "data": {
      "text/html": [
       "<style scoped>\n",
       "  .table-result-container {\n",
       "    max-height: 300px;\n",
       "    overflow: auto;\n",
       "  }\n",
       "  table, th, td {\n",
       "    border: 1px solid black;\n",
       "    border-collapse: collapse;\n",
       "  }\n",
       "  th, td {\n",
       "    padding: 5px;\n",
       "  }\n",
       "  th {\n",
       "    text-align: left;\n",
       "  }\n",
       "</style><div class='table-result-container'><table class='table-result'><thead style='background-color: white'><tr><th>origin</th><th>total_flights</th></tr></thead><tbody><tr><td>JFK</td><td>2092</td></tr></tbody></table></div>"
      ]
     },
     "metadata": {
      "application/vnd.databricks.v1+output": {
       "addedWidgets": {},
       "aggData": [],
       "aggError": "",
       "aggOverflow": false,
       "aggSchema": [],
       "aggSeriesLimitReached": false,
       "aggType": "",
       "arguments": {},
       "columnCustomDisplayInfos": {},
       "data": [
        [
         "JFK",
         2092
        ]
       ],
       "datasetInfos": [],
       "dbfsResultPath": null,
       "isJsonSchema": true,
       "metadata": {},
       "overflow": false,
       "plotOptions": {
        "customPlotOptions": {},
        "displayType": "table",
        "pivotAggregation": null,
        "pivotColumns": null,
        "xColumns": null,
        "yColumns": null
       },
       "removedWidgets": [],
       "schema": [
        {
         "metadata": "{}",
         "name": "origin",
         "type": "\"string\""
        },
        {
         "metadata": "{}",
         "name": "total_flights",
         "type": "\"long\""
        }
       ],
       "type": "table"
      }
     },
     "output_type": "display_data"
    }
   ],
   "source": [
    "resposta_9 = (df.filter(col(\"dest\") == 'SEA')\n",
    "                .groupBy('origin')\n",
    "                .agg(countDistinct(col(\"id\")).alias(\"total_flights\"))\n",
    "                .orderBy(col('total_flights').desc())\n",
    "                .limit(1)\n",
    ")\n",
    "display(resposta_9)"
   ]
  },
  {
   "cell_type": "markdown",
   "metadata": {
    "application/vnd.databricks.v1+cell": {
     "cellMetadata": {},
     "inputWidgets": {},
     "nuid": "cd8d062c-e1cd-4240-99b9-1aaf81338f87",
     "showTitle": false,
     "title": ""
    }
   },
   "source": [
    "\n",
    "##### 10. Qual é a média de atraso na partida dos voos (dep_delay) para cada dia da semana?\n",
    "**Resposta:** A média de atraso por dia, considerando tanto voos adiantados quanto atrasados, está na tabela abaixo."
   ]
  },
  {
   "cell_type": "code",
   "execution_count": 0,
   "metadata": {
    "application/vnd.databricks.v1+cell": {
     "cellMetadata": {
      "byteLimit": 2048000,
      "rowLimit": 10000
     },
     "inputWidgets": {},
     "nuid": "f2d3f60e-2deb-4c14-9c54-feaf2b42930f",
     "showTitle": false,
     "title": ""
    }
   },
   "outputs": [
    {
     "output_type": "display_data",
     "data": {
      "text/html": [
       "<style scoped>\n",
       "  .table-result-container {\n",
       "    max-height: 300px;\n",
       "    overflow: auto;\n",
       "  }\n",
       "  table, th, td {\n",
       "    border: 1px solid black;\n",
       "    border-collapse: collapse;\n",
       "  }\n",
       "  th, td {\n",
       "    padding: 5px;\n",
       "  }\n",
       "  th {\n",
       "    text-align: left;\n",
       "  }\n",
       "</style><div class='table-result-container'><table class='table-result'><thead style='background-color: white'><tr><th>day_of_week</th><th>avg_dep_delay</th></tr></thead><tbody><tr><td>Thursday</td><td>16.15</td></tr><tr><td>Monday</td><td>14.78</td></tr><tr><td>Friday</td><td>14.7</td></tr><tr><td>Wednesday</td><td>11.8</td></tr><tr><td>Sunday</td><td>11.59</td></tr><tr><td>Tuesday</td><td>10.63</td></tr><tr><td>Saturday</td><td>7.65</td></tr></tbody></table></div>"
      ]
     },
     "metadata": {
      "application/vnd.databricks.v1+output": {
       "addedWidgets": {},
       "aggData": [],
       "aggError": "",
       "aggOverflow": false,
       "aggSchema": [],
       "aggSeriesLimitReached": false,
       "aggType": "",
       "arguments": {},
       "columnCustomDisplayInfos": {},
       "data": [
        [
         "Thursday",
         16.15
        ],
        [
         "Monday",
         14.78
        ],
        [
         "Friday",
         14.7
        ],
        [
         "Wednesday",
         11.8
        ],
        [
         "Sunday",
         11.59
        ],
        [
         "Tuesday",
         10.63
        ],
        [
         "Saturday",
         7.65
        ]
       ],
       "datasetInfos": [],
       "dbfsResultPath": null,
       "isJsonSchema": true,
       "metadata": {},
       "overflow": false,
       "plotOptions": {
        "customPlotOptions": {},
        "displayType": "table",
        "pivotAggregation": null,
        "pivotColumns": null,
        "xColumns": null,
        "yColumns": null
       },
       "removedWidgets": [],
       "schema": [
        {
         "metadata": "{}",
         "name": "day_of_week",
         "type": "\"string\""
        },
        {
         "metadata": "{}",
         "name": "avg_dep_delay",
         "type": "\"double\""
        }
       ],
       "type": "table"
      }
     },
     "output_type": "display_data"
    }
   ],
   "source": [
    "# Recriando a tabela caso ela não esteja em memória:\n",
    "df_with_day_of_week = df.withColumn(\n",
    "    \"day_of_week\",\n",
    "    date_format(df[\"time_hour\"], \"EEEE\")\n",
    ")\n",
    "\n",
    "resposta_10 = (\n",
    "    df_with_day_of_week.groupBy(col('day_of_week'))\n",
    "    .agg(round(avg(col('dep_delay')),2).alias('avg_dep_delay'))\n",
    "    .orderBy(col('avg_dep_delay').desc())\n",
    ")\n",
    "display(resposta_10)"
   ]
  },
  {
   "cell_type": "markdown",
   "metadata": {
    "application/vnd.databricks.v1+cell": {
     "cellMetadata": {},
     "inputWidgets": {},
     "nuid": "26d230e8-aa16-43d1-97df-a85c695707be",
     "showTitle": false,
     "title": ""
    }
   },
   "source": [
    "##### 11. Qual é a rota que teve o maior tempo de voo médio (air_time)?\n",
    "**Resposta:**  A rota com maior tempo médio de voo foi: **JFK -> HNL**"
   ]
  },
  {
   "cell_type": "code",
   "execution_count": 0,
   "metadata": {
    "application/vnd.databricks.v1+cell": {
     "cellMetadata": {
      "byteLimit": 2048000,
      "rowLimit": 10000
     },
     "inputWidgets": {},
     "nuid": "936d7c40-d9f5-4dc1-b27b-09cd8f24ff4e",
     "showTitle": false,
     "title": ""
    }
   },
   "outputs": [
    {
     "output_type": "display_data",
     "data": {
      "text/html": [
       "<style scoped>\n",
       "  .table-result-container {\n",
       "    max-height: 300px;\n",
       "    overflow: auto;\n",
       "  }\n",
       "  table, th, td {\n",
       "    border: 1px solid black;\n",
       "    border-collapse: collapse;\n",
       "  }\n",
       "  th, td {\n",
       "    padding: 5px;\n",
       "  }\n",
       "  th {\n",
       "    text-align: left;\n",
       "  }\n",
       "</style><div class='table-result-container'><table class='table-result'><thead style='background-color: white'><tr><th>origin</th><th>dest</th><th>avg_air_time</th></tr></thead><tbody><tr><td>JFK</td><td>HNL</td><td>623.0877192982456</td></tr></tbody></table></div>"
      ]
     },
     "metadata": {
      "application/vnd.databricks.v1+output": {
       "addedWidgets": {},
       "aggData": [],
       "aggError": "",
       "aggOverflow": false,
       "aggSchema": [],
       "aggSeriesLimitReached": false,
       "aggType": "",
       "arguments": {},
       "columnCustomDisplayInfos": {},
       "data": [
        [
         "JFK",
         "HNL",
         623.0877192982456
        ]
       ],
       "datasetInfos": [],
       "dbfsResultPath": null,
       "isJsonSchema": true,
       "metadata": {},
       "overflow": false,
       "plotOptions": {
        "customPlotOptions": {},
        "displayType": "table",
        "pivotAggregation": null,
        "pivotColumns": null,
        "xColumns": null,
        "yColumns": null
       },
       "removedWidgets": [],
       "schema": [
        {
         "metadata": "{}",
         "name": "origin",
         "type": "\"string\""
        },
        {
         "metadata": "{}",
         "name": "dest",
         "type": "\"string\""
        },
        {
         "metadata": "{}",
         "name": "avg_air_time",
         "type": "\"double\""
        }
       ],
       "type": "table"
      }
     },
     "output_type": "display_data"
    }
   ],
   "source": [
    "resposta_11 = (\n",
    "    df.groupBy(col(\"origin\"),col(\"dest\"))\n",
    "    .agg(avg('air_time').alias('avg_air_time'))\n",
    "    .sort(col('avg_air_time').desc())\n",
    "    .limit(1)\n",
    "\n",
    ")\n",
    "display(resposta_11)"
   ]
  },
  {
   "cell_type": "markdown",
   "metadata": {
    "application/vnd.databricks.v1+cell": {
     "cellMetadata": {},
     "inputWidgets": {},
     "nuid": "72f714ea-9632-4156-836a-963c92a5ff82",
     "showTitle": false,
     "title": ""
    }
   },
   "source": [
    "##### 12. Para cada aeroporto de origem, qual é o aeroporto de destino mais comum?\n",
    "**Resposta:** \n",
    "1. EWR -> ORD \n",
    "2. JFK -> LAX\n",
    "3. LGA -> ATL"
   ]
  },
  {
   "cell_type": "code",
   "execution_count": 0,
   "metadata": {
    "application/vnd.databricks.v1+cell": {
     "cellMetadata": {
      "byteLimit": 2048000,
      "rowLimit": 10000
     },
     "inputWidgets": {},
     "nuid": "7cb122c4-acb2-4169-9fe4-2d327049539f",
     "showTitle": false,
     "title": ""
    }
   },
   "outputs": [
    {
     "output_type": "display_data",
     "data": {
      "text/html": [
       "<style scoped>\n",
       "  .table-result-container {\n",
       "    max-height: 300px;\n",
       "    overflow: auto;\n",
       "  }\n",
       "  table, th, td {\n",
       "    border: 1px solid black;\n",
       "    border-collapse: collapse;\n",
       "  }\n",
       "  th, td {\n",
       "    padding: 5px;\n",
       "  }\n",
       "  th {\n",
       "    text-align: left;\n",
       "  }\n",
       "</style><div class='table-result-container'><table class='table-result'><thead style='background-color: white'><tr><th>origin</th><th>most_common_dest</th></tr></thead><tbody><tr><td>EWR</td><td>ORD</td></tr><tr><td>JFK</td><td>LAX</td></tr><tr><td>LGA</td><td>ATL</td></tr></tbody></table></div>"
      ]
     },
     "metadata": {
      "application/vnd.databricks.v1+output": {
       "addedWidgets": {},
       "aggData": [],
       "aggError": "",
       "aggOverflow": false,
       "aggSchema": [],
       "aggSeriesLimitReached": false,
       "aggType": "",
       "arguments": {},
       "columnCustomDisplayInfos": {},
       "data": [
        [
         "EWR",
         "ORD"
        ],
        [
         "JFK",
         "LAX"
        ],
        [
         "LGA",
         "ATL"
        ]
       ],
       "datasetInfos": [],
       "dbfsResultPath": null,
       "isJsonSchema": true,
       "metadata": {},
       "overflow": false,
       "plotOptions": {
        "customPlotOptions": {},
        "displayType": "table",
        "pivotAggregation": null,
        "pivotColumns": null,
        "xColumns": null,
        "yColumns": null
       },
       "removedWidgets": [],
       "schema": [
        {
         "metadata": "{}",
         "name": "origin",
         "type": "\"string\""
        },
        {
         "metadata": "{}",
         "name": "most_common_dest",
         "type": "\"string\""
        }
       ],
       "type": "table"
      }
     },
     "output_type": "display_data"
    }
   ],
   "source": [
    "window_12 = Window.orderBy(col(\"num_rotas\").desc()).partitionBy(\"origin\")\n",
    "\n",
    "all_routs_volume = (\n",
    "    df.groupBy(col(\"origin\"),col(\"dest\"))\n",
    "    .agg(countDistinct(col(\"id\")).alias(\"num_rotas\"))\n",
    "    .withColumn(\"rank\",rank().over(window_12))\n",
    ")\n",
    "\n",
    "resposta_12 = all_routs_volume.filter(col('rank') == 1).select('origin',col('dest').alias('most_common_dest'))\n",
    "display(resposta_12)\n"
   ]
  },
  {
   "cell_type": "markdown",
   "metadata": {
    "application/vnd.databricks.v1+cell": {
     "cellMetadata": {},
     "inputWidgets": {},
     "nuid": "641b5c33-9b4c-4532-9229-4e23b5f75c0a",
     "showTitle": false,
     "title": ""
    }
   },
   "source": [
    "##### 13. Quais são as 3 rotas que tiveram a maior variação no tempo médio de voo (air_time) ?\n",
    "**Resposta:** O desvio padrão mede a dispersão dos valores em torno da média, então pensando nisso as 3 rotas com maior variação são:\n",
    "1. LGA -> MYR\n",
    "2. EWR -> HNL\n",
    "3. JFK -> HNL"
   ]
  },
  {
   "cell_type": "code",
   "execution_count": 0,
   "metadata": {
    "application/vnd.databricks.v1+cell": {
     "cellMetadata": {
      "byteLimit": 2048000,
      "rowLimit": 10000
     },
     "inputWidgets": {},
     "nuid": "f4378349-2415-47a0-ba31-fc56e21a0478",
     "showTitle": false,
     "title": ""
    }
   },
   "outputs": [
    {
     "output_type": "display_data",
     "data": {
      "text/html": [
       "<style scoped>\n",
       "  .table-result-container {\n",
       "    max-height: 300px;\n",
       "    overflow: auto;\n",
       "  }\n",
       "  table, th, td {\n",
       "    border: 1px solid black;\n",
       "    border-collapse: collapse;\n",
       "  }\n",
       "  th, td {\n",
       "    padding: 5px;\n",
       "  }\n",
       "  th {\n",
       "    text-align: left;\n",
       "  }\n",
       "</style><div class='table-result-container'><table class='table-result'><thead style='background-color: white'><tr><th>origin</th><th>dest</th><th>air_time_stdev</th></tr></thead><tbody><tr><td>LGA</td><td>MYR</td><td>25.32455988429677</td></tr><tr><td>EWR</td><td>HNL</td><td>21.266135468474193</td></tr><tr><td>JFK</td><td>HNL</td><td>20.688824842787028</td></tr></tbody></table></div>"
      ]
     },
     "metadata": {
      "application/vnd.databricks.v1+output": {
       "addedWidgets": {},
       "aggData": [],
       "aggError": "",
       "aggOverflow": false,
       "aggSchema": [],
       "aggSeriesLimitReached": false,
       "aggType": "",
       "arguments": {},
       "columnCustomDisplayInfos": {},
       "data": [
        [
         "LGA",
         "MYR",
         25.32455988429677
        ],
        [
         "EWR",
         "HNL",
         21.266135468474193
        ],
        [
         "JFK",
         "HNL",
         20.688824842787028
        ]
       ],
       "datasetInfos": [],
       "dbfsResultPath": null,
       "isJsonSchema": true,
       "metadata": {},
       "overflow": false,
       "plotOptions": {
        "customPlotOptions": {},
        "displayType": "table",
        "pivotAggregation": null,
        "pivotColumns": null,
        "xColumns": null,
        "yColumns": null
       },
       "removedWidgets": [],
       "schema": [
        {
         "metadata": "{}",
         "name": "origin",
         "type": "\"string\""
        },
        {
         "metadata": "{}",
         "name": "dest",
         "type": "\"string\""
        },
        {
         "metadata": "{}",
         "name": "air_time_stdev",
         "type": "\"double\""
        }
       ],
       "type": "table"
      }
     },
     "output_type": "display_data"
    }
   ],
   "source": [
    "resposta_13 = (df.groupBy(\"origin\", \"dest\")\n",
    "                .agg(stddev(\"air_time\").alias(\"air_time_stdev\"))\n",
    "                .orderBy(col('air_time_stdev').desc())\n",
    "                .limit(3)   \n",
    "                )\n",
    "display(resposta_13)"
   ]
  },
  {
   "cell_type": "markdown",
   "metadata": {
    "application/vnd.databricks.v1+cell": {
     "cellMetadata": {},
     "inputWidgets": {},
     "nuid": "2fa6f0c0-ecbc-4383-af2c-46ec6767bff8",
     "showTitle": false,
     "title": ""
    }
   },
   "source": [
    "##### Pergunta: 14. Qual é a média de atraso na chegada para voos que tiveram atraso na partida superior a 1 hora?\n",
    "**Resposta:** A média de atraso para esses voos é de 119.05 minutos."
   ]
  },
  {
   "cell_type": "code",
   "execution_count": 0,
   "metadata": {
    "application/vnd.databricks.v1+cell": {
     "cellMetadata": {
      "byteLimit": 2048000,
      "rowLimit": 10000
     },
     "inputWidgets": {},
     "nuid": "9fe45c2a-7ebd-4de8-92f2-e08828f1f77f",
     "showTitle": false,
     "title": ""
    }
   },
   "outputs": [
    {
     "output_type": "display_data",
     "data": {
      "text/html": [
       "<style scoped>\n",
       "  .table-result-container {\n",
       "    max-height: 300px;\n",
       "    overflow: auto;\n",
       "  }\n",
       "  table, th, td {\n",
       "    border: 1px solid black;\n",
       "    border-collapse: collapse;\n",
       "  }\n",
       "  th, td {\n",
       "    padding: 5px;\n",
       "  }\n",
       "  th {\n",
       "    text-align: left;\n",
       "  }\n",
       "</style><div class='table-result-container'><table class='table-result'><thead style='background-color: white'><tr><th>avg_arr_delay</th></tr></thead><tbody><tr><td>119.05</td></tr></tbody></table></div>"
      ]
     },
     "metadata": {
      "application/vnd.databricks.v1+output": {
       "addedWidgets": {},
       "aggData": [],
       "aggError": "",
       "aggOverflow": false,
       "aggSchema": [],
       "aggSeriesLimitReached": false,
       "aggType": "",
       "arguments": {},
       "columnCustomDisplayInfos": {},
       "data": [
        [
         119.05
        ]
       ],
       "datasetInfos": [],
       "dbfsResultPath": null,
       "isJsonSchema": true,
       "metadata": {},
       "overflow": false,
       "plotOptions": {
        "customPlotOptions": {},
        "displayType": "table",
        "pivotAggregation": null,
        "pivotColumns": null,
        "xColumns": null,
        "yColumns": null
       },
       "removedWidgets": [],
       "schema": [
        {
         "metadata": "{}",
         "name": "avg_arr_delay",
         "type": "\"double\""
        }
       ],
       "type": "table"
      }
     },
     "output_type": "display_data"
    }
   ],
   "source": [
    "df_1hour_dep_delay = df.filter(col('dep_delay') > 60)\n",
    "\n",
    "resposta_14 = df_1hour_dep_delay.select(round(avg(col('arr_delay')),2).alias('avg_arr_delay'))\n",
    "display(resposta_14)\n"
   ]
  },
  {
   "cell_type": "markdown",
   "metadata": {
    "application/vnd.databricks.v1+cell": {
     "cellMetadata": {},
     "inputWidgets": {},
     "nuid": "f0fd584e-35a0-45df-a235-b29cc28ccda3",
     "showTitle": false,
     "title": ""
    }
   },
   "source": [
    "##### 15. Qual é a média de voos diários para cada mês do ano?\n",
    "**Resposta:** Considerando todos os voos agendados e também que nessa base existem voos para todos os dias do período filtrado, a tabela está abaixo:"
   ]
  },
  {
   "cell_type": "code",
   "execution_count": 0,
   "metadata": {
    "application/vnd.databricks.v1+cell": {
     "cellMetadata": {
      "byteLimit": 2048000,
      "rowLimit": 10000
     },
     "inputWidgets": {},
     "nuid": "99548dbf-66c3-4d4f-84d1-084d9c81deff",
     "showTitle": false,
     "title": ""
    }
   },
   "outputs": [
    {
     "output_type": "display_data",
     "data": {
      "text/html": [
       "<style scoped>\n",
       "  .table-result-container {\n",
       "    max-height: 300px;\n",
       "    overflow: auto;\n",
       "  }\n",
       "  table, th, td {\n",
       "    border: 1px solid black;\n",
       "    border-collapse: collapse;\n",
       "  }\n",
       "  th, td {\n",
       "    padding: 5px;\n",
       "  }\n",
       "  th {\n",
       "    text-align: left;\n",
       "  }\n",
       "</style><div class='table-result-container'><table class='table-result'><thead style='background-color: white'><tr><th>month_trunc</th><th>avg_daily_flights</th></tr></thead><tbody><tr><td>2013-01-01</td><td>871.1</td></tr><tr><td>2013-02-01</td><td>891.1</td></tr><tr><td>2013-03-01</td><td>930.1</td></tr><tr><td>2013-04-01</td><td>944.3</td></tr><tr><td>2013-05-01</td><td>928.9</td></tr><tr><td>2013-06-01</td><td>941.4</td></tr><tr><td>2013-07-01</td><td>949.2</td></tr><tr><td>2013-08-01</td><td>946.0</td></tr><tr><td>2013-09-01</td><td>919.1</td></tr><tr><td>2013-10-01</td><td>931.9</td></tr><tr><td>2013-11-01</td><td>908.9</td></tr><tr><td>2013-12-01</td><td>907.6</td></tr></tbody></table></div>"
      ]
     },
     "metadata": {
      "application/vnd.databricks.v1+output": {
       "addedWidgets": {},
       "aggData": [],
       "aggError": "",
       "aggOverflow": false,
       "aggSchema": [],
       "aggSeriesLimitReached": false,
       "aggType": "",
       "arguments": {},
       "columnCustomDisplayInfos": {},
       "data": [
        [
         "2013-01-01",
         871.1
        ],
        [
         "2013-02-01",
         891.1
        ],
        [
         "2013-03-01",
         930.1
        ],
        [
         "2013-04-01",
         944.3
        ],
        [
         "2013-05-01",
         928.9
        ],
        [
         "2013-06-01",
         941.4
        ],
        [
         "2013-07-01",
         949.2
        ],
        [
         "2013-08-01",
         946.0
        ],
        [
         "2013-09-01",
         919.1
        ],
        [
         "2013-10-01",
         931.9
        ],
        [
         "2013-11-01",
         908.9
        ],
        [
         "2013-12-01",
         907.6
        ]
       ],
       "datasetInfos": [],
       "dbfsResultPath": null,
       "isJsonSchema": true,
       "metadata": {},
       "overflow": false,
       "plotOptions": {
        "customPlotOptions": {},
        "displayType": "table",
        "pivotAggregation": null,
        "pivotColumns": null,
        "xColumns": null,
        "yColumns": null
       },
       "removedWidgets": [],
       "schema": [
        {
         "metadata": "{}",
         "name": "month_trunc",
         "type": "\"date\""
        },
        {
         "metadata": "{}",
         "name": "avg_daily_flights",
         "type": "\"double\""
        }
       ],
       "type": "table"
      }
     },
     "output_type": "display_data"
    }
   ],
   "source": [
    "#df com quantidade de dias presente em cada mês:\n",
    "monthly_days_df = (df.groupBy(to_date(date_trunc('month',col(\"time_hour\"))).alias(\"month_trunc\"))\n",
    "                   .agg(countDistinct('day').alias('total_days'))\n",
    "                   .orderBy('month_trunc')\n",
    "                   )\n",
    "\n",
    "monthly_total_df = (df.groupBy(to_date(date_trunc('month',col(\"time_hour\"))).alias(\"month_trunc\"))\n",
    "                      .agg(countDistinct(\"id\").alias(\"total_flights\"))\n",
    "                    )\n",
    "\n",
    "resposta_15 = (monthly_total_df.join(\n",
    "        monthly_days_df,\n",
    "        on = 'month_trunc',\n",
    "        how = 'left')\n",
    "    .select(col('month_trunc'), round(col('total_flights')/col('total_days'),1).alias('avg_daily_flights'))\n",
    "    .sort('month_trunc')\n",
    ")\n",
    "display(resposta_15)"
   ]
  },
  {
   "cell_type": "markdown",
   "metadata": {
    "application/vnd.databricks.v1+cell": {
     "cellMetadata": {},
     "inputWidgets": {},
     "nuid": "11bab1d5-d92b-471d-913c-66d2d7713b56",
     "showTitle": false,
     "title": ""
    }
   },
   "source": [
    "##### 16. Quais são as 3 rotas mais comuns que tiveram atrasos na chegada superiores a 30 minutos?\n",
    "**Resposta:** Das rotas com atrasos na chegada superiores a 30 minutos, as 3 mais comuns são:\n",
    "1. LGA -> ATL\n",
    "2. JFK -> LAX\n",
    "3. LGA -> ORD"
   ]
  },
  {
   "cell_type": "code",
   "execution_count": 0,
   "metadata": {
    "application/vnd.databricks.v1+cell": {
     "cellMetadata": {
      "byteLimit": 2048000,
      "rowLimit": 10000
     },
     "inputWidgets": {},
     "nuid": "d99eb960-7144-469b-9fdd-20572f8b8017",
     "showTitle": false,
     "title": ""
    }
   },
   "outputs": [
    {
     "output_type": "display_data",
     "data": {
      "text/html": [
       "<style scoped>\n",
       "  .table-result-container {\n",
       "    max-height: 300px;\n",
       "    overflow: auto;\n",
       "  }\n",
       "  table, th, td {\n",
       "    border: 1px solid black;\n",
       "    border-collapse: collapse;\n",
       "  }\n",
       "  th, td {\n",
       "    padding: 5px;\n",
       "  }\n",
       "  th {\n",
       "    text-align: left;\n",
       "  }\n",
       "</style><div class='table-result-container'><table class='table-result'><thead style='background-color: white'><tr><th>origin</th><th>dest</th><th>total_flights_with_delay</th></tr></thead><tbody><tr><td>LGA</td><td>ATL</td><td>1563</td></tr><tr><td>JFK</td><td>LAX</td><td>1286</td></tr><tr><td>LGA</td><td>ORD</td><td>1188</td></tr></tbody></table></div>"
      ]
     },
     "metadata": {
      "application/vnd.databricks.v1+output": {
       "addedWidgets": {},
       "aggData": [],
       "aggError": "",
       "aggOverflow": false,
       "aggSchema": [],
       "aggSeriesLimitReached": false,
       "aggType": "",
       "arguments": {},
       "columnCustomDisplayInfos": {},
       "data": [
        [
         "LGA",
         "ATL",
         1563
        ],
        [
         "JFK",
         "LAX",
         1286
        ],
        [
         "LGA",
         "ORD",
         1188
        ]
       ],
       "datasetInfos": [],
       "dbfsResultPath": null,
       "isJsonSchema": true,
       "metadata": {},
       "overflow": false,
       "plotOptions": {
        "customPlotOptions": {},
        "displayType": "table",
        "pivotAggregation": null,
        "pivotColumns": null,
        "xColumns": null,
        "yColumns": null
       },
       "removedWidgets": [],
       "schema": [
        {
         "metadata": "{}",
         "name": "origin",
         "type": "\"string\""
        },
        {
         "metadata": "{}",
         "name": "dest",
         "type": "\"string\""
        },
        {
         "metadata": "{}",
         "name": "total_flights_with_delay",
         "type": "\"long\""
        }
       ],
       "type": "table"
      }
     },
     "output_type": "display_data"
    }
   ],
   "source": [
    "df_30min_arr_delay = df.filter(col('arr_delay') > 30)\n",
    "\n",
    "resposta_16 = (df_30min_arr_delay.groupBy('origin','dest')\n",
    "                .agg(countDistinct('id').alias('total_flights_with_delay'))\n",
    "                .sort(col('total_flights_with_delay').desc())\n",
    "                .limit(3)\n",
    ")\n",
    "display(resposta_16)\n"
   ]
  },
  {
   "cell_type": "markdown",
   "metadata": {
    "application/vnd.databricks.v1+cell": {
     "cellMetadata": {},
     "inputWidgets": {},
     "nuid": "a542deee-bef8-43b0-b1b1-03a786051e1d",
     "showTitle": false,
     "title": ""
    }
   },
   "source": [
    "##### 17. Para cada origem, qual o principal destino?\n",
    "**Resposta:** \n",
    "1. EWR -> ORD \n",
    "2. JFK -> LAX\n",
    "3. LGA -> ATL\n"
   ]
  },
  {
   "cell_type": "code",
   "execution_count": 0,
   "metadata": {
    "application/vnd.databricks.v1+cell": {
     "cellMetadata": {
      "byteLimit": 2048000,
      "rowLimit": 10000
     },
     "inputWidgets": {},
     "nuid": "e7f9679f-379e-4d23-b765-67e960aba0f8",
     "showTitle": false,
     "title": ""
    }
   },
   "outputs": [
    {
     "output_type": "display_data",
     "data": {
      "text/html": [
       "<style scoped>\n",
       "  .table-result-container {\n",
       "    max-height: 300px;\n",
       "    overflow: auto;\n",
       "  }\n",
       "  table, th, td {\n",
       "    border: 1px solid black;\n",
       "    border-collapse: collapse;\n",
       "  }\n",
       "  th, td {\n",
       "    padding: 5px;\n",
       "  }\n",
       "  th {\n",
       "    text-align: left;\n",
       "  }\n",
       "</style><div class='table-result-container'><table class='table-result'><thead style='background-color: white'><tr><th>origin</th><th>most_common_dest</th></tr></thead><tbody><tr><td>EWR</td><td>ORD</td></tr><tr><td>JFK</td><td>LAX</td></tr><tr><td>LGA</td><td>ATL</td></tr></tbody></table></div>"
      ]
     },
     "metadata": {
      "application/vnd.databricks.v1+output": {
       "addedWidgets": {},
       "aggData": [],
       "aggError": "",
       "aggOverflow": false,
       "aggSchema": [],
       "aggSeriesLimitReached": false,
       "aggType": "",
       "arguments": {},
       "columnCustomDisplayInfos": {},
       "data": [
        [
         "EWR",
         "ORD"
        ],
        [
         "JFK",
         "LAX"
        ],
        [
         "LGA",
         "ATL"
        ]
       ],
       "datasetInfos": [],
       "dbfsResultPath": null,
       "isJsonSchema": true,
       "metadata": {},
       "overflow": false,
       "plotOptions": {
        "customPlotOptions": {},
        "displayType": "table",
        "pivotAggregation": null,
        "pivotColumns": null,
        "xColumns": null,
        "yColumns": null
       },
       "removedWidgets": [],
       "schema": [
        {
         "metadata": "{}",
         "name": "origin",
         "type": "\"string\""
        },
        {
         "metadata": "{}",
         "name": "most_common_dest",
         "type": "\"string\""
        }
       ],
       "type": "table"
      }
     },
     "output_type": "display_data"
    }
   ],
   "source": [
    "# de forma semelhante a questao 12\n",
    "window_17 = Window.orderBy(col(\"num_rotas\").desc()).partitionBy(\"origin\")\n",
    "\n",
    "all_routs_volume = (\n",
    "    df.groupBy(col(\"origin\"),col(\"dest\"))\n",
    "    .agg(countDistinct(col(\"id\")).alias(\"num_rotas\"))\n",
    "    .withColumn(\"rank\",rank().over(window_17))\n",
    ")\n",
    "\n",
    "resposta_17 = all_routs_volume.filter(col('rank') == 1).select('origin',col('dest').alias('most_common_dest'))\n",
    "display(resposta_17)"
   ]
  },
  {
   "cell_type": "markdown",
   "metadata": {
    "application/vnd.databricks.v1+cell": {
     "cellMetadata": {},
     "inputWidgets": {},
     "nuid": "0eb9cd23-dc92-458f-b889-f6aaaaa31e4d",
     "showTitle": false,
     "title": ""
    }
   },
   "source": [
    "##### Criando funções para as APIs"
   ]
  },
  {
   "cell_type": "code",
   "execution_count": 0,
   "metadata": {
    "application/vnd.databricks.v1+cell": {
     "cellMetadata": {
      "byteLimit": 2048000,
      "rowLimit": 10000
     },
     "inputWidgets": {},
     "nuid": "e4bad67b-4134-4181-8428-6d16d58acf74",
     "showTitle": false,
     "title": ""
    }
   },
   "outputs": [],
   "source": [
    "import requests\n",
    "from datetime import datetime, timedelta\n",
    "\n",
    "# chaves expostas\n",
    "airportdb_key = '3e82af3f61afc227845300b55754a2773d15c5b0feb942767916c80946c6e29ca7736dc63451fe964dac0f5717bcaab1'\n",
    "weatherbit_key = '6fc410b714e2493fbfa537336920712e'\n",
    "\n",
    "def get_airport_location(airport_code):\n",
    "    # a exemplo do case onde adota-se a primeira letra do código como 'K' (primeira letra do ICAO da região do US)\n",
    "    url = f\"https://airportdb.io/api/v1/airport/K{airport_code}?apiToken={airportdb_key}\"\n",
    "    response = requests.get(url)\n",
    "\n",
    "    if response.status_code == requests.codes.ok:\n",
    "        data = response.json()\n",
    "        return data['latitude_deg'] , data['longitude_deg']\n",
    "    elif response.status_code == requests.codes.not_found:\n",
    "        return None, None\n",
    "    else:\n",
    "        raise Exception(\"Erro na request!\")\n",
    "    \n",
    "\n",
    "def get_wind_speed(location, date):\n",
    "    # chamando a funcao get_airport_location\n",
    "    location = get_airport_location(location)\n",
    "    latitude, longitude = location\n",
    "    if latitude is None or longitude is None:\n",
    "        return None\n",
    "\n",
    "    end_datetime = date + timedelta(days=1) \n",
    "    end_date = end_datetime.strftime(\"%Y-%m-%d\")\n",
    "    start_date = date.strftime(\"%Y-%m-%d\") \n",
    "     \n",
    "\n",
    "    url = 'https://api.weatherbit.io/v2.0/history/daily'\n",
    "    params = {\n",
    "    'lat': latitude,\n",
    "    'lon': longitude,\n",
    "    'start_date': start_date,\n",
    "    'end_date': end_date,\n",
    "    'key': weatherbit_key,\n",
    "    }\n",
    "    headers = {\n",
    "    'Accept': 'application/json',\n",
    "    }\n",
    "\n",
    "    response = requests.get(url, params=params, headers=headers)\n",
    "\n",
    "    # parar codigo se atingir o limite de requests.\n",
    "    if response.status_code == 429:\n",
    "        raise Exception(\"Too many requests!\")\n",
    "    \n",
    "    wheter_data = response.json()\n",
    "    try:    \n",
    "        return wheter_data['data'][0]['wind_spd']\n",
    "    except:\n",
    "        return None\n",
    "\n",
    "# registrando UserDefinedFunction no pyspark\n",
    "get_wind_speed_udf = udf(get_wind_speed, FloatType())"
   ]
  },
  {
   "cell_type": "markdown",
   "metadata": {
    "application/vnd.databricks.v1+cell": {
     "cellMetadata": {},
     "inputWidgets": {},
     "nuid": "366f228c-ccc0-4237-b542-34915ef5fea0",
     "showTitle": false,
     "title": ""
    }
   },
   "source": [
    "##### Pergunta Final: Enriqueça a base de dados de voos com as condições meteorológicas (velocidade do vento) para os aeroportos de origem e destino. Mostre as informações enriquecidas para os 5 voos com maior atraso na chegada.\n",
    "**Considerações:** \n",
    "1. Não enriqueci a base completa devido ao limite de requisições das APIs, mas enriqueci os 5 voos com maior atraso na chegada.\n",
    "2. O aeroporto de HNL não foi enriquecido pois seu código ICAO inicia-se com 'P' ao invés de 'K' como definido anteriormente."
   ]
  },
  {
   "cell_type": "code",
   "execution_count": 0,
   "metadata": {
    "application/vnd.databricks.v1+cell": {
     "cellMetadata": {
      "byteLimit": 2048000,
      "rowLimit": 10000
     },
     "inputWidgets": {},
     "nuid": "8807197e-ee00-44d0-961a-560ffc3109f9",
     "showTitle": false,
     "title": ""
    }
   },
   "outputs": [
    {
     "output_type": "display_data",
     "data": {
      "text/html": [
       "<style scoped>\n",
       "  .table-result-container {\n",
       "    max-height: 300px;\n",
       "    overflow: auto;\n",
       "  }\n",
       "  table, th, td {\n",
       "    border: 1px solid black;\n",
       "    border-collapse: collapse;\n",
       "  }\n",
       "  th, td {\n",
       "    padding: 5px;\n",
       "  }\n",
       "  th {\n",
       "    text-align: left;\n",
       "  }\n",
       "</style><div class='table-result-container'><table class='table-result'><thead style='background-color: white'><tr><th>id</th><th>origin</th><th>dest</th><th>arr_delay</th><th>time_hour</th><th>wind_speed_origin</th><th>wind_speed_dest</th></tr></thead><tbody><tr><td>7072</td><td>JFK</td><td>HNL</td><td>1272.0</td><td>2013-01-09T09:00:00.000+0000</td><td>3.5</td><td>null</td></tr><tr><td>235778</td><td>JFK</td><td>CMH</td><td>1127.0</td><td>2013-06-15T19:00:00.000+0000</td><td>4.1</td><td>1.9</td></tr><tr><td>8239</td><td>EWR</td><td>ORD</td><td>1109.0</td><td>2013-01-10T16:00:00.000+0000</td><td>4.1</td><td>4.1</td></tr><tr><td>327043</td><td>JFK</td><td>SFO</td><td>1007.0</td><td>2013-09-20T18:00:00.000+0000</td><td>3.7</td><td>4.3</td></tr><tr><td>270376</td><td>JFK</td><td>CVG</td><td>989.0</td><td>2013-07-22T16:00:00.000+0000</td><td>3.2</td><td>2.3</td></tr></tbody></table></div>"
      ]
     },
     "metadata": {
      "application/vnd.databricks.v1+output": {
       "addedWidgets": {},
       "aggData": [],
       "aggError": "",
       "aggOverflow": false,
       "aggSchema": [],
       "aggSeriesLimitReached": false,
       "aggType": "",
       "arguments": {},
       "columnCustomDisplayInfos": {},
       "data": [
        [
         7072,
         "JFK",
         "HNL",
         1272.0,
         "2013-01-09T09:00:00.000+0000",
         3.5,
         null
        ],
        [
         235778,
         "JFK",
         "CMH",
         1127.0,
         "2013-06-15T19:00:00.000+0000",
         4.1,
         1.9
        ],
        [
         8239,
         "EWR",
         "ORD",
         1109.0,
         "2013-01-10T16:00:00.000+0000",
         4.1,
         4.1
        ],
        [
         327043,
         "JFK",
         "SFO",
         1007.0,
         "2013-09-20T18:00:00.000+0000",
         3.7,
         4.3
        ],
        [
         270376,
         "JFK",
         "CVG",
         989.0,
         "2013-07-22T16:00:00.000+0000",
         3.2,
         2.3
        ]
       ],
       "datasetInfos": [],
       "dbfsResultPath": null,
       "isJsonSchema": true,
       "metadata": {},
       "overflow": false,
       "plotOptions": {
        "customPlotOptions": {},
        "displayType": "table",
        "pivotAggregation": null,
        "pivotColumns": null,
        "xColumns": null,
        "yColumns": null
       },
       "removedWidgets": [],
       "schema": [
        {
         "metadata": "{}",
         "name": "id",
         "type": "\"integer\""
        },
        {
         "metadata": "{}",
         "name": "origin",
         "type": "\"string\""
        },
        {
         "metadata": "{}",
         "name": "dest",
         "type": "\"string\""
        },
        {
         "metadata": "{}",
         "name": "arr_delay",
         "type": "\"double\""
        },
        {
         "metadata": "{}",
         "name": "time_hour",
         "type": "\"timestamp\""
        },
        {
         "metadata": "{}",
         "name": "wind_speed_origin",
         "type": "\"float\""
        },
        {
         "metadata": "{}",
         "name": "wind_speed_dest",
         "type": "\"float\""
        }
       ],
       "type": "table"
      }
     },
     "output_type": "display_data"
    }
   ],
   "source": [
    "most_delayed_flights = df.orderBy(col('arr_delay').desc()).select('id','origin','dest','arr_delay','time_hour').limit(5)\n",
    "\n",
    "df_new = most_delayed_flights.withColumn('wind_speed_origin',get_wind_speed_udf(col('origin'),to_date(col('time_hour'))))\n",
    "df_new = df_new.withColumn('wind_speed_dest',get_wind_speed_udf(col('dest'),to_date(col('time_hour'))))\n",
    "\n",
    "display(df_new)\n"
   ]
  }
 ],
 "metadata": {
  "application/vnd.databricks.v1+notebook": {
   "dashboards": [],
   "environmentMetadata": null,
   "language": "python",
   "notebookMetadata": {
    "pythonIndentUnit": 4
   },
   "notebookName": "case_tecnico_v2",
   "widgets": {}
  }
 },
 "nbformat": 4,
 "nbformat_minor": 0
}
